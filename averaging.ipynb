{
 "cells": [
  {
   "cell_type": "code",
   "execution_count": 1,
   "metadata": {},
   "outputs": [],
   "source": [
    "import numpy as np\n",
    "import pandas as pd\n",
    "import mdtraj as md\n",
    "import matplotlib\n",
    "#%matplotlib inline\n",
    "import matplotlib.pyplot as plt\n",
    "import seaborn as sns"
   ]
  },
  {
   "cell_type": "code",
   "execution_count": 2,
   "metadata": {},
   "outputs": [],
   "source": [
    "## read temp and change column first\n",
    "df = pd.read_csv('../data/SimContactFrequency.PROB.csv')\n",
    "df['Avg']=df.mean(axis=1)\n",
    "df ['RESNAME'] = df.iloc[:,0]\n",
    "df= df [['RESNAME','Sim1','Sim2','Sim3','Sim4','Avg']]\n",
    "df.to_csv('modified.PROB.csv', index=False)\n",
    "\n",
    "## assign row for PROB read data and save csv file\n",
    "col_list = [\"RESNAME\",\"Avg\"]\n",
    "#df = pd.read_csv(\"SimCA_ZDistvsRes.PROB.csv\", usecols=col_list,index_col=0 )\n",
    "df = pd.read_csv(\"modified.PROB.csv\", usecols=col_list,index_col=0 )\n",
    "\n",
    "cl_list = [\"RESNAME\"]\n",
    "df1 = pd.read_csv('GluN1.csv',usecols=cl_list)\n",
    "df.index = df.reindex(df1.RESNAME).index\n",
    "## assign column like index\n",
    "##df.Sim1 = df.reindex(df1.RESNAME).index\n",
    "df.to_csv('SimContactFreq.PROB.avg.csv')\n",
    "#################################\n",
    "#####################################\n",
    "## read temp and change column first\n",
    "ff = pd.read_csv('../data/SimContactFrequency.PROF.csv')\n",
    "ff['Avg']=ff.mean(axis=1)\n",
    "ff ['RESNAME'] = ff.iloc[:,0]\n",
    "ff= ff [['RESNAME','Sim1','Sim2','Sim3','Sim4','Avg']]\n",
    "ff.to_csv('modified.PROF.csv', index=False)\n",
    "\n",
    "## assign row for PROB read data and save csv file\n",
    "col_list = [\"RESNAME\",\"Avg\"]\n",
    "#df = pd.read_csv(\"SimCA_ZDistvsRes.PROB.csv\", usecols=col_list,index_col=0 )\n",
    "ff = pd.read_csv(\"modified.PROF.csv\", usecols=col_list,index_col=0 )\n",
    "\n",
    "cl_list = [\"RESNAME\"]\n",
    "ff1 = pd.read_csv('GluN1.csv',usecols=cl_list)\n",
    "ff.index = ff.reindex(ff1.RESNAME).index\n",
    "## assign column like index\n",
    "##df.Sim1 = df.reindex(df1.RESNAME).index\n",
    "ff.to_csv('SimContactFreq.PROF.avg.csv')\n",
    "\n",
    "########################################################\n",
    "\n",
    "PROAA = pd.read_csv('SimContactFreq.PROB.avg.csv', index_col=0)\n",
    "PROEE = pd.read_csv('SimContactFreq.PROF.avg.csv', index_col=0)\n",
    "PROAA[\"Avg\"] = (PROAA['Avg']+PROEE['Avg'])/2\n",
    "\n",
    "PROAA['Avg'].to_csv('SimContactFreq.GluN1.avg.csv')"
   ]
  },
  {
   "cell_type": "code",
   "execution_count": 12,
   "metadata": {},
   "outputs": [],
   "source": []
  },
  {
   "cell_type": "code",
   "execution_count": 15,
   "metadata": {},
   "outputs": [
    {
     "data": {
      "text/plain": [
       "RESNAME\n",
       "LYS838    0.197833\n",
       "ARG839    0.590500\n",
       "HIS840    0.599333\n",
       "LYS841    0.230000\n",
       "ASP842    0.071000\n",
       "            ...   \n",
       "ARG934    0.003833\n",
       "HIS935    0.006167\n",
       "ARG936    0.029167\n",
       "GLU937    0.001500\n",
       "SER938    0.006167\n",
       "Name: Avg, Length: 101, dtype: float64"
      ]
     },
     "execution_count": 15,
     "metadata": {},
     "output_type": "execute_result"
    }
   ],
   "source": [
    "ff['Avg']"
   ]
  },
  {
   "cell_type": "code",
   "execution_count": 19,
   "metadata": {},
   "outputs": [],
   "source": [
    "PROAA = pd.read_csv('SimContactFreq.PROB.avg.csv', index_col=0)"
   ]
  },
  {
   "cell_type": "code",
   "execution_count": 20,
   "metadata": {},
   "outputs": [
    {
     "data": {
      "text/html": [
       "<div>\n",
       "<style scoped>\n",
       "    .dataframe tbody tr th:only-of-type {\n",
       "        vertical-align: middle;\n",
       "    }\n",
       "\n",
       "    .dataframe tbody tr th {\n",
       "        vertical-align: top;\n",
       "    }\n",
       "\n",
       "    .dataframe thead th {\n",
       "        text-align: right;\n",
       "    }\n",
       "</style>\n",
       "<table border=\"1\" class=\"dataframe\">\n",
       "  <thead>\n",
       "    <tr style=\"text-align: right;\">\n",
       "      <th></th>\n",
       "      <th>Avg</th>\n",
       "    </tr>\n",
       "    <tr>\n",
       "      <th>RESNAME</th>\n",
       "      <th></th>\n",
       "    </tr>\n",
       "  </thead>\n",
       "  <tbody>\n",
       "    <tr>\n",
       "      <th>LYS838</th>\n",
       "      <td>0.131333</td>\n",
       "    </tr>\n",
       "    <tr>\n",
       "      <th>ARG839</th>\n",
       "      <td>0.593833</td>\n",
       "    </tr>\n",
       "    <tr>\n",
       "      <th>HIS840</th>\n",
       "      <td>0.530667</td>\n",
       "    </tr>\n",
       "    <tr>\n",
       "      <th>LYS841</th>\n",
       "      <td>0.252667</td>\n",
       "    </tr>\n",
       "    <tr>\n",
       "      <th>ASP842</th>\n",
       "      <td>0.299000</td>\n",
       "    </tr>\n",
       "    <tr>\n",
       "      <th>...</th>\n",
       "      <td>...</td>\n",
       "    </tr>\n",
       "    <tr>\n",
       "      <th>ARG934</th>\n",
       "      <td>0.021167</td>\n",
       "    </tr>\n",
       "    <tr>\n",
       "      <th>HIS935</th>\n",
       "      <td>0.000833</td>\n",
       "    </tr>\n",
       "    <tr>\n",
       "      <th>ARG936</th>\n",
       "      <td>0.016667</td>\n",
       "    </tr>\n",
       "    <tr>\n",
       "      <th>GLU937</th>\n",
       "      <td>0.013500</td>\n",
       "    </tr>\n",
       "    <tr>\n",
       "      <th>SER938</th>\n",
       "      <td>0.007000</td>\n",
       "    </tr>\n",
       "  </tbody>\n",
       "</table>\n",
       "<p>101 rows × 1 columns</p>\n",
       "</div>"
      ],
      "text/plain": [
       "              Avg\n",
       "RESNAME          \n",
       "LYS838   0.131333\n",
       "ARG839   0.593833\n",
       "HIS840   0.530667\n",
       "LYS841   0.252667\n",
       "ASP842   0.299000\n",
       "...           ...\n",
       "ARG934   0.021167\n",
       "HIS935   0.000833\n",
       "ARG936   0.016667\n",
       "GLU937   0.013500\n",
       "SER938   0.007000\n",
       "\n",
       "[101 rows x 1 columns]"
      ]
     },
     "execution_count": 20,
     "metadata": {},
     "output_type": "execute_result"
    }
   ],
   "source": [
    "PROAA"
   ]
  },
  {
   "cell_type": "code",
   "execution_count": 21,
   "metadata": {},
   "outputs": [],
   "source": [
    "PROAA = pd.read_csv('SimContactFreq.PROB.avg.csv', index_col=0)\n",
    "PROEE = pd.read_csv('SimContactFreq.PROF.avg.csv', index_col=0)\n",
    "PROAA[\"Avg\"] = (PROAA['Avg']+PROEE['Avg'])/2"
   ]
  },
  {
   "cell_type": "code",
   "execution_count": 25,
   "metadata": {},
   "outputs": [
    {
     "data": {
      "text/html": [
       "<div>\n",
       "<style scoped>\n",
       "    .dataframe tbody tr th:only-of-type {\n",
       "        vertical-align: middle;\n",
       "    }\n",
       "\n",
       "    .dataframe tbody tr th {\n",
       "        vertical-align: top;\n",
       "    }\n",
       "\n",
       "    .dataframe thead th {\n",
       "        text-align: right;\n",
       "    }\n",
       "</style>\n",
       "<table border=\"1\" class=\"dataframe\">\n",
       "  <thead>\n",
       "    <tr style=\"text-align: right;\">\n",
       "      <th></th>\n",
       "      <th>Avg</th>\n",
       "    </tr>\n",
       "    <tr>\n",
       "      <th>RESNAME</th>\n",
       "      <th></th>\n",
       "    </tr>\n",
       "  </thead>\n",
       "  <tbody>\n",
       "    <tr>\n",
       "      <th>LYS838</th>\n",
       "      <td>0.197833</td>\n",
       "    </tr>\n",
       "    <tr>\n",
       "      <th>ARG839</th>\n",
       "      <td>0.590500</td>\n",
       "    </tr>\n",
       "    <tr>\n",
       "      <th>HIS840</th>\n",
       "      <td>0.599333</td>\n",
       "    </tr>\n",
       "    <tr>\n",
       "      <th>LYS841</th>\n",
       "      <td>0.230000</td>\n",
       "    </tr>\n",
       "    <tr>\n",
       "      <th>ASP842</th>\n",
       "      <td>0.071000</td>\n",
       "    </tr>\n",
       "    <tr>\n",
       "      <th>...</th>\n",
       "      <td>...</td>\n",
       "    </tr>\n",
       "    <tr>\n",
       "      <th>ARG934</th>\n",
       "      <td>0.003833</td>\n",
       "    </tr>\n",
       "    <tr>\n",
       "      <th>HIS935</th>\n",
       "      <td>0.006167</td>\n",
       "    </tr>\n",
       "    <tr>\n",
       "      <th>ARG936</th>\n",
       "      <td>0.029167</td>\n",
       "    </tr>\n",
       "    <tr>\n",
       "      <th>GLU937</th>\n",
       "      <td>0.001500</td>\n",
       "    </tr>\n",
       "    <tr>\n",
       "      <th>SER938</th>\n",
       "      <td>0.006167</td>\n",
       "    </tr>\n",
       "  </tbody>\n",
       "</table>\n",
       "<p>101 rows × 1 columns</p>\n",
       "</div>"
      ],
      "text/plain": [
       "              Avg\n",
       "RESNAME          \n",
       "LYS838   0.197833\n",
       "ARG839   0.590500\n",
       "HIS840   0.599333\n",
       "LYS841   0.230000\n",
       "ASP842   0.071000\n",
       "...           ...\n",
       "ARG934   0.003833\n",
       "HIS935   0.006167\n",
       "ARG936   0.029167\n",
       "GLU937   0.001500\n",
       "SER938   0.006167\n",
       "\n",
       "[101 rows x 1 columns]"
      ]
     },
     "execution_count": 25,
     "metadata": {},
     "output_type": "execute_result"
    }
   ],
   "source": [
    "PROEE"
   ]
  },
  {
   "cell_type": "code",
   "execution_count": 22,
   "metadata": {},
   "outputs": [
    {
     "data": {
      "text/plain": [
       "RESNAME\n",
       "LYS838    0.164583\n",
       "ARG839    0.592167\n",
       "HIS840    0.565000\n",
       "LYS841    0.241333\n",
       "ASP842    0.185000\n",
       "            ...   \n",
       "ARG934    0.012500\n",
       "HIS935    0.003500\n",
       "ARG936    0.022917\n",
       "GLU937    0.007500\n",
       "SER938    0.006583\n",
       "Name: Avg, Length: 101, dtype: float64"
      ]
     },
     "execution_count": 22,
     "metadata": {},
     "output_type": "execute_result"
    }
   ],
   "source": [
    "PROAA['Avg']"
   ]
  },
  {
   "cell_type": "code",
   "execution_count": 23,
   "metadata": {},
   "outputs": [
    {
     "data": {
      "text/plain": [
       "pandas.core.series.Series"
      ]
     },
     "execution_count": 23,
     "metadata": {},
     "output_type": "execute_result"
    }
   ],
   "source": [
    "type(PROAA['Avg'])"
   ]
  },
  {
   "cell_type": "code",
   "execution_count": 24,
   "metadata": {},
   "outputs": [],
   "source": [
    "PROAA['Avg'].to_csv('SimContactFreq.GluN1.avg.csv')"
   ]
  },
  {
   "cell_type": "code",
   "execution_count": null,
   "metadata": {},
   "outputs": [],
   "source": []
  }
 ],
 "metadata": {
  "kernelspec": {
   "display_name": "Python 3",
   "language": "python",
   "name": "python3"
  },
  "language_info": {
   "codemirror_mode": {
    "name": "ipython",
    "version": 3
   },
   "file_extension": ".py",
   "mimetype": "text/x-python",
   "name": "python",
   "nbconvert_exporter": "python",
   "pygments_lexer": "ipython3",
   "version": "3.8.3"
  }
 },
 "nbformat": 4,
 "nbformat_minor": 4
}
