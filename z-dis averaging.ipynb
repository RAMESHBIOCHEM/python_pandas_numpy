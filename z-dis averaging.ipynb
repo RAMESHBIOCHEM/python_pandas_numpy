{
 "cells": [
  {
   "cell_type": "code",
   "execution_count": 1,
   "metadata": {},
   "outputs": [],
   "source": [
    "import numpy as np\n",
    "import pandas as pd\n",
    "import mdtraj as md\n",
    "import matplotlib\n",
    "#%matplotlib inline\n",
    "import matplotlib.pyplot as plt\n",
    "import seaborn as sns"
   ]
  },
  {
   "cell_type": "code",
   "execution_count": 3,
   "metadata": {},
   "outputs": [],
   "source": [
    "df = pd.read_csv('SimTip_ZDistvsRes.PROB1.csv',index_col=0)"
   ]
  },
  {
   "cell_type": "code",
   "execution_count": 4,
   "metadata": {},
   "outputs": [],
   "source": [
    "df['Avg']=df.mean(axis=1)"
   ]
  },
  {
   "cell_type": "code",
   "execution_count": 5,
   "metadata": {},
   "outputs": [
    {
     "data": {
      "text/plain": [
       "RESNAME\n",
       "LYS838    -0.625191\n",
       "ARG839     1.162615\n",
       "HIS840    -0.671504\n",
       "LYS841    -2.545858\n",
       "ASP842    -6.692742\n",
       "            ...    \n",
       "ARG934   -22.849682\n",
       "HIS935   -24.810855\n",
       "ARG936   -23.031189\n",
       "GLU937   -25.504221\n",
       "SER938   -26.243566\n",
       "Name: Avg, Length: 101, dtype: float64"
      ]
     },
     "execution_count": 5,
     "metadata": {},
     "output_type": "execute_result"
    }
   ],
   "source": [
    "df['Avg']"
   ]
  },
  {
   "cell_type": "code",
   "execution_count": 6,
   "metadata": {},
   "outputs": [
    {
     "data": {
      "text/plain": [
       "pandas.core.series.Series"
      ]
     },
     "execution_count": 6,
     "metadata": {},
     "output_type": "execute_result"
    }
   ],
   "source": [
    "type(df['Avg'])"
   ]
  },
  {
   "cell_type": "code",
   "execution_count": 7,
   "metadata": {},
   "outputs": [],
   "source": [
    "ff = pd.read_csv('SimTip_ZDistvsRes.PROF1.csv',index_col=0)"
   ]
  },
  {
   "cell_type": "code",
   "execution_count": 8,
   "metadata": {},
   "outputs": [],
   "source": [
    "ff['Avg']=ff.mean(axis=1)"
   ]
  },
  {
   "cell_type": "code",
   "execution_count": 9,
   "metadata": {},
   "outputs": [
    {
     "data": {
      "text/plain": [
       "RESNAME\n",
       "LYS838     0.748633\n",
       "ARG839     2.437285\n",
       "HIS840     2.494086\n",
       "LYS841     0.355228\n",
       "ASP842    -2.374836\n",
       "            ...    \n",
       "ARG934   -32.878021\n",
       "HIS935   -31.520804\n",
       "ARG936   -30.567462\n",
       "GLU937   -31.361564\n",
       "SER938   -31.994165\n",
       "Name: Avg, Length: 101, dtype: float64"
      ]
     },
     "execution_count": 9,
     "metadata": {},
     "output_type": "execute_result"
    }
   ],
   "source": [
    "ff['Avg']"
   ]
  },
  {
   "cell_type": "code",
   "execution_count": 10,
   "metadata": {},
   "outputs": [],
   "source": [
    "df['Avg'] = (df['Avg']+ff['Avg'])/2"
   ]
  },
  {
   "cell_type": "code",
   "execution_count": 11,
   "metadata": {},
   "outputs": [
    {
     "data": {
      "text/plain": [
       "RESNAME\n",
       "LYS838     0.061721\n",
       "ARG839     1.799950\n",
       "HIS840     0.911291\n",
       "LYS841    -1.095315\n",
       "ASP842    -4.533789\n",
       "            ...    \n",
       "ARG934   -27.863851\n",
       "HIS935   -28.165829\n",
       "ARG936   -26.799326\n",
       "GLU937   -28.432892\n",
       "SER938   -29.118865\n",
       "Name: Avg, Length: 101, dtype: float64"
      ]
     },
     "execution_count": 11,
     "metadata": {},
     "output_type": "execute_result"
    }
   ],
   "source": [
    "df['Avg']"
   ]
  },
  {
   "cell_type": "code",
   "execution_count": 12,
   "metadata": {},
   "outputs": [],
   "source": [
    "df['Avg'].to_csv('GluN1.zdis.avg.csv')"
   ]
  },
  {
   "cell_type": "code",
   "execution_count": null,
   "metadata": {},
   "outputs": [],
   "source": []
  }
 ],
 "metadata": {
  "kernelspec": {
   "display_name": "Python 3",
   "language": "python",
   "name": "python3"
  },
  "language_info": {
   "codemirror_mode": {
    "name": "ipython",
    "version": 3
   },
   "file_extension": ".py",
   "mimetype": "text/x-python",
   "name": "python",
   "nbconvert_exporter": "python",
   "pygments_lexer": "ipython3",
   "version": "3.8.3"
  }
 },
 "nbformat": 4,
 "nbformat_minor": 4
}
