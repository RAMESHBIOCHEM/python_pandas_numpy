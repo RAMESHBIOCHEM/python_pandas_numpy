{
 "cells": [
  {
   "cell_type": "code",
   "execution_count": 1,
   "metadata": {},
   "outputs": [],
   "source": [
    "import pandas as pd\n",
    "import numpy as np"
   ]
  },
  {
   "cell_type": "code",
   "execution_count": 23,
   "metadata": {},
   "outputs": [],
   "source": [
    "#df = pd.read_csv('FFssFF.N.SGL.294K.dat',delim_whitespace=True, names=['z','count'])"
   ]
  },
  {
   "cell_type": "code",
   "execution_count": 77,
   "metadata": {},
   "outputs": [],
   "source": [
    "data = np.loadtxt('FFssFF.N.SGL.294K.dat')"
   ]
  },
  {
   "cell_type": "code",
   "execution_count": 79,
   "metadata": {},
   "outputs": [],
   "source": [
    "# select first and second column array\n",
    "x = data[:,0]\n",
    "y = data[:,1]"
   ]
  },
  {
   "cell_type": "code",
   "execution_count": 94,
   "metadata": {},
   "outputs": [
    {
     "data": {
      "text/plain": [
       "129.0"
      ]
     },
     "execution_count": 94,
     "metadata": {},
     "output_type": "execute_result"
    }
   ],
   "source": [
    "x[i]"
   ]
  },
  {
   "cell_type": "code",
   "execution_count": 97,
   "metadata": {},
   "outputs": [],
   "source": [
    "top =[]\n",
    "bottom = []\n",
    "mid =int(len(x)/2)\n",
    "\n",
    "for i in range(mid,0,-1):\n",
    "    top.append(y[i])\n",
    "for i in range(mid,int(len(x))):\n",
    "    bottom.append(y[i])\n",
    "ans = (np.array(top) + np.array(bottom))/2\n",
    "\n",
    "xbottom = []\n",
    "for j in range(mid, int(len(x))):\n",
    "    xbottom.append(x[j])\n",
    "zaxis = np.array(xbottom)"
   ]
  },
  {
   "cell_type": "code",
   "execution_count": 98,
   "metadata": {},
   "outputs": [
    {
     "data": {
      "text/plain": [
       "array([  1.,   3.,   5.,   7.,   9.,  11.,  13.,  15.,  17.,  19.,  21.,\n",
       "        23.,  25.,  27.,  29.,  31.,  33.,  35.,  37.,  39.,  41.,  43.,\n",
       "        45.,  47.,  49.,  51.,  53.,  55.,  57.,  59.,  61.,  63.,  65.,\n",
       "        67.,  69.,  71.,  73.,  75.,  77.,  79.,  81.,  83.,  85.,  87.,\n",
       "        89.,  91.,  93.,  95.,  97.,  99., 101., 103., 105., 107., 109.,\n",
       "       111., 113., 115., 117., 119., 121., 123., 125., 127., 129.])"
      ]
     },
     "execution_count": 98,
     "metadata": {},
     "output_type": "execute_result"
    }
   ],
   "source": [
    "zaxis"
   ]
  },
  {
   "cell_type": "code",
   "execution_count": 85,
   "metadata": {},
   "outputs": [
    {
     "data": {
      "text/plain": [
       "array([3.39 , 3.6  , 3.59 , 3.345, 2.98 , 2.6  , 2.385, 1.97 , 1.58 ,\n",
       "       1.38 , 1.055, 0.675, 0.43 , 0.285, 0.175, 0.115, 0.075, 0.055,\n",
       "       0.05 , 0.04 , 0.04 , 0.035, 0.03 , 0.03 , 0.03 , 0.035, 0.04 ,\n",
       "       0.04 , 0.04 , 0.04 , 0.04 , 0.04 , 0.045, 0.04 , 0.04 , 0.04 ,\n",
       "       0.04 , 0.035, 0.04 , 0.04 , 0.035, 0.04 , 0.045, 0.05 , 0.05 ,\n",
       "       0.055, 0.045, 0.045, 0.045, 0.05 , 0.05 , 0.05 , 0.05 , 0.055,\n",
       "       0.05 , 0.05 , 0.045, 0.045, 0.05 , 0.05 , 0.055, 0.055, 0.06 ,\n",
       "       0.065, 0.06 ])"
      ]
     },
     "execution_count": 85,
     "metadata": {},
     "output_type": "execute_result"
    }
   ],
   "source": [
    "ans"
   ]
  },
  {
   "cell_type": "code",
   "execution_count": 116,
   "metadata": {},
   "outputs": [],
   "source": [
    "file = np.stack((zaxis, ans), axis=1)"
   ]
  },
  {
   "cell_type": "code",
   "execution_count": 117,
   "metadata": {},
   "outputs": [
    {
     "data": {
      "text/plain": [
       "array([[1.000e+00, 3.390e+00],\n",
       "       [3.000e+00, 3.600e+00],\n",
       "       [5.000e+00, 3.590e+00],\n",
       "       [7.000e+00, 3.345e+00],\n",
       "       [9.000e+00, 2.980e+00],\n",
       "       [1.100e+01, 2.600e+00],\n",
       "       [1.300e+01, 2.385e+00],\n",
       "       [1.500e+01, 1.970e+00],\n",
       "       [1.700e+01, 1.580e+00],\n",
       "       [1.900e+01, 1.380e+00],\n",
       "       [2.100e+01, 1.055e+00],\n",
       "       [2.300e+01, 6.750e-01],\n",
       "       [2.500e+01, 4.300e-01],\n",
       "       [2.700e+01, 2.850e-01],\n",
       "       [2.900e+01, 1.750e-01],\n",
       "       [3.100e+01, 1.150e-01],\n",
       "       [3.300e+01, 7.500e-02],\n",
       "       [3.500e+01, 5.500e-02],\n",
       "       [3.700e+01, 5.000e-02],\n",
       "       [3.900e+01, 4.000e-02],\n",
       "       [4.100e+01, 4.000e-02],\n",
       "       [4.300e+01, 3.500e-02],\n",
       "       [4.500e+01, 3.000e-02],\n",
       "       [4.700e+01, 3.000e-02],\n",
       "       [4.900e+01, 3.000e-02],\n",
       "       [5.100e+01, 3.500e-02],\n",
       "       [5.300e+01, 4.000e-02],\n",
       "       [5.500e+01, 4.000e-02],\n",
       "       [5.700e+01, 4.000e-02],\n",
       "       [5.900e+01, 4.000e-02],\n",
       "       [6.100e+01, 4.000e-02],\n",
       "       [6.300e+01, 4.000e-02],\n",
       "       [6.500e+01, 4.500e-02],\n",
       "       [6.700e+01, 4.000e-02],\n",
       "       [6.900e+01, 4.000e-02],\n",
       "       [7.100e+01, 4.000e-02],\n",
       "       [7.300e+01, 4.000e-02],\n",
       "       [7.500e+01, 3.500e-02],\n",
       "       [7.700e+01, 4.000e-02],\n",
       "       [7.900e+01, 4.000e-02],\n",
       "       [8.100e+01, 3.500e-02],\n",
       "       [8.300e+01, 4.000e-02],\n",
       "       [8.500e+01, 4.500e-02],\n",
       "       [8.700e+01, 5.000e-02],\n",
       "       [8.900e+01, 5.000e-02],\n",
       "       [9.100e+01, 5.500e-02],\n",
       "       [9.300e+01, 4.500e-02],\n",
       "       [9.500e+01, 4.500e-02],\n",
       "       [9.700e+01, 4.500e-02],\n",
       "       [9.900e+01, 5.000e-02],\n",
       "       [1.010e+02, 5.000e-02],\n",
       "       [1.030e+02, 5.000e-02],\n",
       "       [1.050e+02, 5.000e-02],\n",
       "       [1.070e+02, 5.500e-02],\n",
       "       [1.090e+02, 5.000e-02],\n",
       "       [1.110e+02, 5.000e-02],\n",
       "       [1.130e+02, 4.500e-02],\n",
       "       [1.150e+02, 4.500e-02],\n",
       "       [1.170e+02, 5.000e-02],\n",
       "       [1.190e+02, 5.000e-02],\n",
       "       [1.210e+02, 5.500e-02],\n",
       "       [1.230e+02, 5.500e-02],\n",
       "       [1.250e+02, 6.000e-02],\n",
       "       [1.270e+02, 6.500e-02],\n",
       "       [1.290e+02, 6.000e-02]])"
      ]
     },
     "execution_count": 117,
     "metadata": {},
     "output_type": "execute_result"
    }
   ],
   "source": [
    "file"
   ]
  },
  {
   "cell_type": "code",
   "execution_count": 118,
   "metadata": {},
   "outputs": [],
   "source": [
    "np.savetxt('avg_combine.dat',file, delimiter=' ')"
   ]
  },
  {
   "cell_type": "code",
   "execution_count": 124,
   "metadata": {},
   "outputs": [],
   "source": [
    "df = pd.read_csv('avg_combine.dat', header=None, names=['z','count'], delim_whitespace=True)"
   ]
  },
  {
   "cell_type": "code",
   "execution_count": 125,
   "metadata": {},
   "outputs": [
    {
     "data": {
      "text/html": [
       "<div>\n",
       "<style scoped>\n",
       "    .dataframe tbody tr th:only-of-type {\n",
       "        vertical-align: middle;\n",
       "    }\n",
       "\n",
       "    .dataframe tbody tr th {\n",
       "        vertical-align: top;\n",
       "    }\n",
       "\n",
       "    .dataframe thead th {\n",
       "        text-align: right;\n",
       "    }\n",
       "</style>\n",
       "<table border=\"1\" class=\"dataframe\">\n",
       "  <thead>\n",
       "    <tr style=\"text-align: right;\">\n",
       "      <th></th>\n",
       "      <th>z</th>\n",
       "      <th>count</th>\n",
       "    </tr>\n",
       "  </thead>\n",
       "  <tbody>\n",
       "    <tr>\n",
       "      <th>0</th>\n",
       "      <td>1.0</td>\n",
       "      <td>3.390</td>\n",
       "    </tr>\n",
       "    <tr>\n",
       "      <th>1</th>\n",
       "      <td>3.0</td>\n",
       "      <td>3.600</td>\n",
       "    </tr>\n",
       "    <tr>\n",
       "      <th>2</th>\n",
       "      <td>5.0</td>\n",
       "      <td>3.590</td>\n",
       "    </tr>\n",
       "    <tr>\n",
       "      <th>3</th>\n",
       "      <td>7.0</td>\n",
       "      <td>3.345</td>\n",
       "    </tr>\n",
       "    <tr>\n",
       "      <th>4</th>\n",
       "      <td>9.0</td>\n",
       "      <td>2.980</td>\n",
       "    </tr>\n",
       "    <tr>\n",
       "      <th>...</th>\n",
       "      <td>...</td>\n",
       "      <td>...</td>\n",
       "    </tr>\n",
       "    <tr>\n",
       "      <th>60</th>\n",
       "      <td>121.0</td>\n",
       "      <td>0.055</td>\n",
       "    </tr>\n",
       "    <tr>\n",
       "      <th>61</th>\n",
       "      <td>123.0</td>\n",
       "      <td>0.055</td>\n",
       "    </tr>\n",
       "    <tr>\n",
       "      <th>62</th>\n",
       "      <td>125.0</td>\n",
       "      <td>0.060</td>\n",
       "    </tr>\n",
       "    <tr>\n",
       "      <th>63</th>\n",
       "      <td>127.0</td>\n",
       "      <td>0.065</td>\n",
       "    </tr>\n",
       "    <tr>\n",
       "      <th>64</th>\n",
       "      <td>129.0</td>\n",
       "      <td>0.060</td>\n",
       "    </tr>\n",
       "  </tbody>\n",
       "</table>\n",
       "<p>65 rows × 2 columns</p>\n",
       "</div>"
      ],
      "text/plain": [
       "        z  count\n",
       "0     1.0  3.390\n",
       "1     3.0  3.600\n",
       "2     5.0  3.590\n",
       "3     7.0  3.345\n",
       "4     9.0  2.980\n",
       "..    ...    ...\n",
       "60  121.0  0.055\n",
       "61  123.0  0.055\n",
       "62  125.0  0.060\n",
       "63  127.0  0.065\n",
       "64  129.0  0.060\n",
       "\n",
       "[65 rows x 2 columns]"
      ]
     },
     "execution_count": 125,
     "metadata": {},
     "output_type": "execute_result"
    }
   ],
   "source": [
    "df"
   ]
  },
  {
   "cell_type": "code",
   "execution_count": 120,
   "metadata": {},
   "outputs": [
    {
     "data": {
      "text/plain": [
       "65"
      ]
     },
     "execution_count": 120,
     "metadata": {},
     "output_type": "execute_result"
    }
   ],
   "source": [
    "len(df)"
   ]
  },
  {
   "cell_type": "code",
   "execution_count": null,
   "metadata": {},
   "outputs": [],
   "source": []
  },
  {
   "cell_type": "code",
   "execution_count": null,
   "metadata": {},
   "outputs": [],
   "source": []
  },
  {
   "cell_type": "code",
   "execution_count": 9,
   "metadata": {},
   "outputs": [
    {
     "data": {
      "text/plain": [
       "129"
      ]
     },
     "execution_count": 9,
     "metadata": {},
     "output_type": "execute_result"
    }
   ],
   "source": [
    "len(df)"
   ]
  },
  {
   "cell_type": "code",
   "execution_count": 46,
   "metadata": {},
   "outputs": [],
   "source": [
    "data = df['count'].to_numpy()"
   ]
  }
 ],
 "metadata": {
  "kernelspec": {
   "display_name": "Python 3",
   "language": "python",
   "name": "python3"
  },
  "language_info": {
   "codemirror_mode": {
    "name": "ipython",
    "version": 3
   },
   "file_extension": ".py",
   "mimetype": "text/x-python",
   "name": "python",
   "nbconvert_exporter": "python",
   "pygments_lexer": "ipython3",
   "version": "3.8.3"
  }
 },
 "nbformat": 4,
 "nbformat_minor": 4
}
